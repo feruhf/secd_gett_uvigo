{
 "cells": [
  {
   "cell_type": "markdown",
   "metadata": {
    "id": "POX5itFMkINH"
   },
   "source": [
    "# Sistemas Electrónicos para Comunicaciones Digitales\n",
    "# Ejercicios de sistemas de comunicación inalámbrica\n",
    "\n",
    "Tabla 1. Características del módulo Bluettoth BlueCore2 de CSR configurado en modo de monitorización o sondeo de bajo consumo con una conexión ACL (*Asynchronous Connectionless Link*)\n",
    ">Packet Type | Packet Size (data bytes) | Data rate (kbps)\n",
    ">--- | --- | ---\n",
    ">DH1 (1 slot)  |  28 | 172.8\n",
    ">DH3 (3 slots) | 183 | 585\n",
    ">DH5 (5 slots) | 341 | 733.9\n",
    "\n",
    "> Sniff interval ($T_{sniff}$) (ms) | $I_{sleep}$ (mA) | $I_{act}$ (mA)\n",
    "> --- | --- | ---\n",
    ">40   | 4.0 | 50\n",
    ">470  | 2.5 | 50\n",
    ">1280 | 0.5 | 50\n",
    "\n",
    "Tabla 2. Características del módulo ZigBee MC1323x de Freescale\n",
    "> $I_{sleep}$ ($\\mu$A) | $I_{act}$ (mA)\n",
    "> --- | ---\n",
    ">   1 | 30\n",
    "\n",
    "\n",
    "\n",
    "\n"
   ]
  },
  {
   "cell_type": "markdown",
   "metadata": {
    "id": "V8y-BQqgFZjW"
   },
   "source": [
    "## **Ejercicio 1**\n",
    "\n",
    "Se desea realizar una red inalámbrica de sensores distribuidos para monitorizar una serie de variables en distintos puntos de un área de medida. Cada nodo sensor del sistema realizará una adquisición cada $100\\,ms$, codificará la información utilizando $20\\,bytes$, empaquetará dicha información y la enviará periódicamente ($T_{per}$) al nodo coordinador o maestro. Para realizar una estimación, se considerará que los nodos sensores se alimentan con una batería con una capacidad nominal de $100\\,mA·h$ y que el consumo está dominado por el módulo de comunicación inalámbrica.\n",
    "\n"
   ]
  },
  {
   "cell_type": "markdown",
   "metadata": {
    "id": "cXneFro8PCQi"
   },
   "source": [
    "### Apartado a)\n",
    "a) Si se utiliza un módulo Bluetooth BlueCore2 de CSR para realizar la comunicación, en modo de sondeo de bajo consumo con una conexión ACL, determinar la duración de la batería del nodo sensor o esclavo cuando se configura la red con unperiodo de sondeo o monitorización de datos, $T_{per} = T_{sniff} = 470\\,ms$, y se empaquetan los datosutilizando Packet Type DH3."
   ]
  },
  {
   "cell_type": "markdown",
   "metadata": {
    "id": "ALQWBnxtLn0b"
   },
   "source": [
    "### Solución"
   ]
  },
  {
   "cell_type": "markdown",
   "metadata": {
    "id": "lX1abTxbszg1"
   },
   "source": [
    "#### Tasa de producción de datos\n",
    "* Periodo de muestro: $T_{samplig}=T_s=100\\,ms$\n",
    "* Datos por muestra: $d=20\\,bytes\\ per\\ sample$\n",
    "* Tasa de producción de datos: $DR=d/T_{s}=\\frac{20 bytes}{100 ms} = 200\\,Bps\\,[bytes/s] = 1600\\,bps\\,[bits/s]$\n"
   ]
  },
  {
   "cell_type": "code",
   "execution_count": 1,
   "metadata": {
    "colab": {
     "base_uri": "https://localhost:8080/"
    },
    "id": "zn8pk-jQkHb7",
    "outputId": "5778749f-9927-49b6-f73e-5fd39dbfe3fa"
   },
   "outputs": [
    {
     "data": {
      "text/plain": [
       "1600.0"
      ]
     },
     "execution_count": 1,
     "metadata": {},
     "output_type": "execute_result"
    }
   ],
   "source": [
    "import numpy as np\n",
    "Ts=100e-3\n",
    "d=20\n",
    "DR=8*d/Ts\n",
    "DR"
   ]
  },
  {
   "cell_type": "markdown",
   "metadata": {
    "id": "8Ga1cZ3qwhTJ"
   },
   "source": [
    "#### Bluetooth BlueCore2. Packet Type DH3 ($183\\,bytes$ y $585\\,kbps$):\n",
    "* Periodo de sondeo de datos: $T_{per}=470\\,ms$\n",
    "* Tasa de transmisión de datos: $b = 585\\,kbps$\n",
    "\n",
    "#### Tamaño del paquete:\n",
    "\n",
    "* $Samples\\_per\\_packet=T_{per}/T_s=\\frac{470}{100}=4,7\\,samples\\ per\\ packet$ _(en media, unos de 4 muestras y en otros de 5)_\n",
    "* $Bytes\\_per\\_packet = \\frac{d · T_{per}}{T_s} = DR_{[Bps]} · T_{per} = \\frac{20 · 470}{100} = 94\\,bytes$"
   ]
  },
  {
   "cell_type": "code",
   "execution_count": 2,
   "metadata": {
    "colab": {
     "base_uri": "https://localhost:8080/"
    },
    "id": "-ohFB952z6jY",
    "outputId": "f8f557cc-8afb-4cca-c757-8e2204d5e146"
   },
   "outputs": [
    {
     "name": "stdout",
     "output_type": "stream",
     "text": [
      "4.699999999999999 93.99999999999999\n"
     ]
    }
   ],
   "source": [
    "Tper = 470e-3\n",
    "b_bt = 585000\n",
    "Samples_per_packet = Tper / Ts\n",
    "Bytes_per_packet = d * Samples_per_packet\n",
    "print(Samples_per_packet, Bytes_per_packet)"
   ]
  },
  {
   "cell_type": "markdown",
   "metadata": {
    "id": "V2Ppzp26IFIK"
   },
   "source": [
    "#### Tiempo activo de transmisión:\n",
    "\n",
    "* $T_{act} = \\frac{8 · Bytes\\_per\\_packet}{b} = \\frac{DR_{[bps]} · T_{per}}{b}= 1,285\\ ms$\n",
    "* $T_{sleep} = T_{per}-T_{act} = 468,715 \\ ms$"
   ]
  },
  {
   "cell_type": "code",
   "execution_count": 3,
   "metadata": {
    "colab": {
     "base_uri": "https://localhost:8080/"
    },
    "id": "r8aRKbk8IETl",
    "outputId": "ed22b698-097d-40e0-f039-748cee44b3c9"
   },
   "outputs": [
    {
     "name": "stdout",
     "output_type": "stream",
     "text": [
      "0.0012854700854700854 0.4687145299145299\n"
     ]
    }
   ],
   "source": [
    "Tact_bt = DR * Tper / b_bt\n",
    "Tsleep_bt = Tper - Tact_bt\n",
    "print(Tact_bt, Tsleep_bt)"
   ]
  },
  {
   "cell_type": "markdown",
   "metadata": {
    "id": "6z8kOBVzL5OC"
   },
   "source": [
    "#### Corriente consumida media:\n",
    "* Corriente consumida en modo activo: $I_{act} = 50\\ mA$\n",
    "* Corriente consumida en modo *sleep*: $I_{sleep} = 2,5\\ mA$\n",
    "\n",
    "![Consumos](https://raw.githubusercontent.com/feruhf/secd_gett_uvigo/master/images/grafica_consumo.png)\n",
    "\n",
    "* Corriente media consumida: $I_{av} = \\frac{I_{act}·T_{act}+I_{sleep}·T_{sleep}}{T_{per}}=2,63\\ mA$"
   ]
  },
  {
   "cell_type": "code",
   "execution_count": 4,
   "metadata": {
    "colab": {
     "base_uri": "https://localhost:8080/"
    },
    "id": "8pgxN2BONvYh",
    "outputId": "0bd23fa9-aa12-4b06-d5f7-4a256be74d15"
   },
   "outputs": [
    {
     "data": {
      "text/plain": [
       "0.0026299145299145303"
      ]
     },
     "execution_count": 4,
     "metadata": {},
     "output_type": "execute_result"
    }
   ],
   "source": [
    "Iact_bt   = 50e-3\n",
    "Isleep_bt = 2.5e-3\n",
    "Iav_bt = (Iact_bt*Tact_bt + Isleep_bt*Tsleep_bt)/Tper\n",
    "Iav_bt"
   ]
  },
  {
   "cell_type": "markdown",
   "metadata": {
    "id": "DoQT4o7w3lRR"
   },
   "source": []
  },
  {
   "cell_type": "markdown",
   "metadata": {
    "id": "s3zM7J0-QH-p"
   },
   "source": [
    "#### Duración de la batería\n",
    "* Capacidad de la batería: $W_{bat}=100\\ mA·h$\n",
    "* Duración de la batería: $T_{work}=W_{bat}/I_{av}=\\frac{100\\ mA·h}{2,61\\ mA} = 38,02\\ horas = 1,58\\ días$"
   ]
  },
  {
   "cell_type": "code",
   "execution_count": 5,
   "metadata": {
    "colab": {
     "base_uri": "https://localhost:8080/"
    },
    "id": "apc3WBfbTWX1",
    "outputId": "20f2c76a-0b61-41b9-8d9b-63a63716c0bb"
   },
   "outputs": [
    {
     "name": "stdout",
     "output_type": "stream",
     "text": [
      "38.02404939876503 1.5843353916152096\n"
     ]
    }
   ],
   "source": [
    "Wbar = 100e-3 # A·h\n",
    "Twork_h_bt = Wbar / Iav_bt\n",
    "Twork_d_bt = Twork_h_bt/24\n",
    "print(Twork_h_bt, Twork_d_bt)"
   ]
  },
  {
   "cell_type": "markdown",
   "metadata": {
    "id": "qLb9zpKAQFwg"
   },
   "source": [
    "### Apartado b)\n",
    "Si se utiliza un módulo ZigBee MC1323x de Freescale para realizar la comunicación, con una tasa efectiva de datos de 9600 bps, considerando un consumo medio en modo activo (transmisión) $I_{act} = 30\\ mA$, y un consumo medio en modo de reposo $I_{sleep} = 1\\ \\mu A$. Determinar la duración de la batería del nodo sensor o esclavo cuando se configura la red con un periodo de sondeo, $T_{per} = 470\\ ms$."
   ]
  },
  {
   "cell_type": "markdown",
   "metadata": {
    "id": "Nr9JmL8oVM3y"
   },
   "source": [
    "### Solución"
   ]
  },
  {
   "cell_type": "markdown",
   "metadata": {
    "id": "7cZJ0m1HUnOW"
   },
   "source": [
    "#### ZigBee MC1323x ($9600\\,bps$):\n",
    "* Periodo de sondeo de datos: $T_{per}=470\\,ms$\n",
    "* Tasa de transmisión de datos: $b = 9600\\,bps$\n",
    "\n",
    "#### Tamaño del paquete:\n",
    "\n",
    "* $Samples\\_per\\_packet=T_{per}/T_s=\\frac{470}{100}=4,7\\,samples\\ per\\ packet$ *(en media, unos de 4 muestras y en otros de 5)*\n",
    "* $Bytes\\_per\\_packet = \\frac{d · T_{per}}{T_s} = DR_{[Bps]} · T_{per} = \\frac{20 · 470}{100} = 94\\,bytes$"
   ]
  },
  {
   "cell_type": "code",
   "execution_count": 6,
   "metadata": {
    "colab": {
     "base_uri": "https://localhost:8080/"
    },
    "id": "13a_x8L5Uv1L",
    "outputId": "eee47a48-7007-4b31-f7fe-a7202d7243e3"
   },
   "outputs": [
    {
     "name": "stdout",
     "output_type": "stream",
     "text": [
      "4.699999999999999 93.99999999999999\n"
     ]
    }
   ],
   "source": [
    "Tper = 470e-3\n",
    "b_zb = 9600\n",
    "#Samples_per_packet = Tper / Ts\n",
    "#Bytes_per_packet = d * Samples_per_packet\n",
    "print(Samples_per_packet, Bytes_per_packet)"
   ]
  },
  {
   "cell_type": "markdown",
   "metadata": {
    "id": "TpnDtmO6Uv1c"
   },
   "source": [
    "#### Tiempo activo de transmisión:\n",
    "\n",
    "* $T_{act} = \\frac{8 · Bytes\\_per\\_packet}{b} = \\frac{DR_{[bps]} · T_{per}}{b}= 78,33\\ ms$\n",
    "* $T_{sleep} = T_{per}-T_{act} = 391,67\\ ms$"
   ]
  },
  {
   "cell_type": "code",
   "execution_count": 7,
   "metadata": {
    "colab": {
     "base_uri": "https://localhost:8080/"
    },
    "id": "WtF7uY5uUv1e",
    "outputId": "0c7bec2d-ca4a-4a2f-df24-12887d1363ef"
   },
   "outputs": [
    {
     "name": "stdout",
     "output_type": "stream",
     "text": [
      "0.07833333333333334 0.3916666666666666\n"
     ]
    }
   ],
   "source": [
    "Tact_zb = DR * Tper / b_zb\n",
    "Tsleep_zb = Tper - Tact_zb\n",
    "print(Tact_zb, Tsleep_zb)"
   ]
  },
  {
   "cell_type": "markdown",
   "metadata": {
    "id": "-4pQfa3NUv1m"
   },
   "source": [
    "#### Corriente consumida media:\n",
    "* Corriente consumida en modo activo: $I_{act} = 30\\ mA$\n",
    "* Corriente consumida en modo *sleep*: $I_{sleep} = 1\\ \\mu A$\n",
    "* Corriente media consumida: $I_{av} = \\frac{I_{act}·T_{act}+I_{sleep}·T_{sleep}}{T_{per}}= 5\\ mA$"
   ]
  },
  {
   "cell_type": "code",
   "execution_count": 8,
   "metadata": {
    "colab": {
     "base_uri": "https://localhost:8080/"
    },
    "id": "Q1N_XhnIUv1n",
    "outputId": "f8981bd3-4354-4f8a-8e84-1fc78993659c"
   },
   "outputs": [
    {
     "data": {
      "text/plain": [
       "0.005000833333333334"
      ]
     },
     "execution_count": 8,
     "metadata": {},
     "output_type": "execute_result"
    }
   ],
   "source": [
    "Iact_zb   = 30e-3\n",
    "Isleep_zb = 1e-6\n",
    "Iav_zb = (Iact_zb*Tact_zb + Isleep_zb*Tsleep_zb)/Tper\n",
    "Iav_zb"
   ]
  },
  {
   "cell_type": "markdown",
   "metadata": {
    "id": "-InZzyyjUv1s"
   },
   "source": [
    "#### Duración de la batería\n",
    "* Capacidad de la batería: $W_{bat}=100\\ mA·h$\n",
    "* Duración de la batería: $T_{work}=W_{bat}/I_{av}=\\frac{100\\ mA·h}{5\\ mA} = 20\\,horas = 0,83\\,días$"
   ]
  },
  {
   "cell_type": "code",
   "execution_count": 9,
   "metadata": {
    "colab": {
     "base_uri": "https://localhost:8080/"
    },
    "id": "6xFtZeVuUv1t",
    "outputId": "2d127a79-aa7c-413f-a37d-c21716d05be6"
   },
   "outputs": [
    {
     "name": "stdout",
     "output_type": "stream",
     "text": [
      "19.996667222129645 0.8331944675887352\n"
     ]
    }
   ],
   "source": [
    "Wbar = 100e-3 # A·h\n",
    "Twork_h_zb = Wbar / Iav_zb\n",
    "Twork_d_zb = Twork_h_zb/24\n",
    "print(Twork_h_zb, Twork_d_zb)"
   ]
  },
  {
   "cell_type": "markdown",
   "metadata": {
    "id": "uBu-MayZ7eqC"
   },
   "source": [
    "### Apartado c)\n",
    "c) Estimar el número teórico de transmisiones en cada una de las dos situaciones."
   ]
  },
  {
   "cell_type": "markdown",
   "metadata": {
    "id": "NqZ1--RZLSwW"
   },
   "source": [
    "### Solución"
   ]
  },
  {
   "cell_type": "markdown",
   "metadata": {
    "id": "6KaRD8olLuk-"
   },
   "source": [
    "#### Periodo de sondeo de datos: $T_{per}=470\\,ms$\n",
    "\n",
    "#### Bluetooth BlueCore2:\n",
    "* Duración de la batería: $T_{work_{BT}}=W_{bat}/I_{av}=\\frac{200\\ mA·h}{3,146\\ mA} = 63,58\\ horas = 2,65\\ días$\n",
    "* Número de transmisiones: $nt_{BT}=\\frac{T_{work_{BT}}·3600·10^{3}\\,ms}{T_{per}\\,ms} \\approx 291.248$\n",
    "\n",
    "#### ZigBee MC1323x:\n",
    "* Duración de la batería: $T_{work_{ZB}}=W_{bat}/I_{av}=\\frac{200\\ mA·h}{6,29\\ mA} = 31,79\\,horas = 1,32\\,días$\n",
    "* Número de transmisiones: $nt_{ZB}=\\frac{T_{work_{ZB}}·3600·10^{3}\\,ms}{T_{per}\\,ms} \\approx 153.166$"
   ]
  },
  {
   "cell_type": "code",
   "execution_count": 10,
   "metadata": {
    "colab": {
     "base_uri": "https://localhost:8080/"
    },
    "id": "af3TRB3ePcHz",
    "outputId": "5f756d28-d069-4b1c-b83b-136bd6e22304"
   },
   "outputs": [
    {
     "name": "stdout",
     "output_type": "stream",
     "text": [
      "291248.0379479875 153165.96170141856\n"
     ]
    }
   ],
   "source": [
    "nt_bt = Twork_h_bt*3600/Tper\n",
    "nt_zb = Twork_h_zb*3600/Tper\n",
    "print(nt_bt, nt_zb)\n"
   ]
  },
  {
   "cell_type": "markdown",
   "metadata": {
    "id": "zVK8x0hDWjha"
   },
   "source": [
    "### Apartado d)\n",
    "d) ¿Cuál es la tasa de producción de datos máxima para que la duración de la batería de los nodos sensores con comunicación ZigBee sea mayor que la de los nodos con comunicación Bluetooth?"
   ]
  },
  {
   "cell_type": "markdown",
   "metadata": {
    "id": "g6A0I3y2Wbb3"
   },
   "source": [
    "### Solución"
   ]
  },
  {
   "cell_type": "markdown",
   "metadata": {
    "id": "_0upA18zWbb_"
   },
   "source": [
    "#### Corriente media consumida:\n",
    ">(1) $I_{av} = \\frac{I_{act}·T_{act}+I_{sleep}·T_{sleep}}{T_{per}}$\n",
    "\n",
    ">(2) $T_{sleep}=T_{per}-T_{act}$\n",
    "\n",
    ">(3) $I_{av}=\\frac{I_{act}·T_{act}+I_{sleep}·(T_{per}-T_{act})}{T_{per}}=\\frac{I_{act}·T_{act}+I_{sleep}·T_{per}-I_{sleep}·T_{act}}{T_{per}} = \\frac{T_{act}·(I_{act}-I_{sleep})+T_{per}·I_{sleep}}{T_{per}} $\n",
    "\n",
    ">(4) $T_{act} = \\frac{DR_{[bps]} · T_{per}}{b}$\n",
    "\n",
    ">(5) $\\boxed{I_{av}=\\frac{DR_{[bps]}}{b}(I_{act}-I_{sleep})+I_{sleep}}$"
   ]
  },
  {
   "cell_type": "code",
   "execution_count": 11,
   "metadata": {
    "colab": {
     "base_uri": "https://localhost:8080/",
     "height": 815
    },
    "id": "gvG2kdN_olfC",
    "outputId": "34b54a49-c299-4728-891c-a5a42daaf49a"
   },
   "outputs": [
    {
     "data": {
      "image/png": "[encoded data removed]",
      "text/plain": [
       "<Figure size 1200x900 with 1 Axes>"
      ]
     },
     "metadata": {},
     "output_type": "display_data"
    }
   ],
   "source": [
    "import matplotlib.pyplot as plt\n",
    "DR_arr = np.arange(500,1300,1)\n",
    "Iav_zb_arr = (DR_arr/b_zb)*(Iact_zb-Isleep_zb)+Isleep_zb\n",
    "Iav_bt_arr = (DR_arr/b_bt)*(Iact_bt-Isleep_bt)+Isleep_bt\n",
    "\n",
    "DR_max = (Isleep_bt-Isleep_zb)/((Iact_zb-Isleep_zb)/(b_zb)-(Iact_bt-Isleep_bt)/(b_bt))\n",
    "Iav_th = DR_max/b_bt*(Iact_bt-Isleep_bt)+Isleep_bt\n",
    "\n",
    "plt.figure(figsize=[12,9])\n",
    "plt.plot(DR_arr,Iav_bt_arr*1e3, label='Módulo Bluetooth: $I_{av_{BT}}$')\n",
    "plt.plot(DR_arr,Iav_zb_arr*1e3, label='Módulo ZigBee: $I_{av_{BZ}}$')\n",
    "plt.plot(DR_max,Iav_th*1e3,'ro')\n",
    "plt.annotate('DR_max', xy=(DR_max,Iav_th*1e3), xytext=(DR_max-150,Iav_th*1e3+0.5),\n",
    "             arrowprops=dict(facecolor='black', shrink=0.05),\n",
    "             )\n",
    "plt.title(\"Average current VS Data Rate\")\n",
    "plt.ylabel('Average current, Iav [mA]')\n",
    "plt.xlabel('Data Production Rate [bps]')\n",
    "plt.legend()\n",
    "plt.grid()\n",
    "plt.show()"
   ]
  },
  {
   "cell_type": "markdown",
   "metadata": {
    "id": "3iooNk_Tkpup"
   },
   "source": [
    "#### Condición de consumo:\n",
    "* $I_{av_{ZB}}<I_{av_{BT}}$\n",
    "\n",
    "* $\\frac{DR}{b_{ZB}}·(I_{act_{ZB}}-I_{sleep_{ZB}})+I_{sleep_{ZB}} <\n",
    "   \\frac{DR}{b_{BT}}·(I_{act_{BT}}-I_{sleep_{BT}})+I_{sleep_{BT}}$\n",
    "\n",
    "* $\\boxed{DR < \\frac{I_{sleep_{BT}} -I_{sleep_{ZB}}}{\\frac{(I_{act_{ZB}}-I_{sleep_{ZB}})}{b_{ZB}} - \\frac{(I_{act_{BT}}-I_{sleep_{BT}})}{b_{BT}}}=821,04\\,bps\\approx 821\\ bps}$\n",
    "\n",
    "#### Tasa efectiva mínima:\n",
    "* $DR_{max} = \\frac{I_{sleep_{BT}} -I_{sleep_{ZB}}}{\\frac{(I_{act_{ZB}}-I_{sleep_{ZB}})}{b_{ZB}} - \\frac{(I_{act_{BT}}-I_{sleep_{BT}})}{b_{BT}}}\\approx 821\\ bps$"
   ]
  },
  {
   "cell_type": "code",
   "execution_count": 12,
   "metadata": {
    "colab": {
     "base_uri": "https://localhost:8080/"
    },
    "id": "08iUIYYSwoQM",
    "outputId": "efa70611-d8da-4186-ad70-449e68d439ae"
   },
   "outputs": [
    {
     "name": "stdout",
     "output_type": "stream",
     "text": [
      "821.0403830948935\n"
     ]
    }
   ],
   "source": [
    "DR_max = (Isleep_bt-Isleep_zb)/((Iact_zb-Isleep_zb)/(b_zb)-(Iact_bt-Isleep_bt)/(b_bt))\n",
    "print(DR_max)"
   ]
  },
  {
   "cell_type": "markdown",
   "metadata": {
    "id": "mz3Z1cRXInAA"
   },
   "source": [
    "### Apartado e)\n",
    "e) ¿Cuál es la tasa efectiva de datos mínima del enlace ZigBee para que la duración de la batería de los nodos sensores con comunicación ZigBee sea mayor que la de los nodos con comunicación Bluetooth?"
   ]
  },
  {
   "cell_type": "markdown",
   "metadata": {
    "id": "wqg9K4sqLaHk"
   },
   "source": [
    "### Solución"
   ]
  },
  {
   "cell_type": "markdown",
   "metadata": {
    "id": "E3RNDsMxJUN2"
   },
   "source": [
    "#### Condición de consumo:\n",
    "* $I_{av_{ZB}}<I_{av_{BT}}$\n",
    "\n",
    "* $\\frac{DR}{b_{ZB}}·(I_{act_{ZB}}-I_{sleep_{ZB}})+I_{sleep_{ZB}} <\n",
    "   \\frac{DR}{b_{BT}}·(I_{act_{BT}}-I_{sleep_{BT}})+I_{sleep_{BT}}$\n",
    "\n",
    "* $\\boxed{b_{ZB} > \\frac{DR·(I_{act_{ZB}}-I_{sleep_{ZB}} )}{\\frac{DR}{b_{BT}}·(I_{act_{BT}}-I_{sleep_{BT}})+I_{sleep_{BT}}-I_{sleep_{ZB}}}= 18257,878\\ bps \\approx 18257,9\\ bps}$\n",
    "\n",
    "#### Tasa de efectiva de datos mínima del enlace ZigBee:\n",
    "* $b_{ZB_{min}} = \\frac{DR·(I_{act_{ZB}}-I_{sleep_{ZB}} )}{\\frac{DR}{b_{BT}}·(I_{act_{BT}}-I_{sleep_{BT}})+I_{sleep_{BT}}-I_{sleep_{ZB}}}\\approx 18257,9\\ bps$"
   ]
  },
  {
   "cell_type": "code",
   "execution_count": 13,
   "metadata": {
    "colab": {
     "base_uri": "https://localhost:8080/"
    },
    "id": "Scqd-4pJ5jjE",
    "outputId": "be990fb4-5f88-4f42-bd9b-2b0ff511154f"
   },
   "outputs": [
    {
     "name": "stdout",
     "output_type": "stream",
     "text": [
      "18257.87771105685\n"
     ]
    }
   ],
   "source": [
    "b_zb_min = DR*(Iact_zb-Isleep_zb)/((DR/b_bt)*(Iact_bt-Isleep_bt) + Isleep_bt - Isleep_zb)\n",
    "print(b_zb_min)"
   ]
  }
 ],
 "metadata": {
  "colab": {
   "provenance": []
  },
  "kernelspec": {
   "display_name": "Python [conda env:sdr]",
   "language": "python",
   "name": "conda-env-sdr-py"
  },
  "language_info": {
   "codemirror_mode": {
    "name": "ipython",
    "version": 3
   },
   "file_extension": ".py",
   "mimetype": "text/x-python",
   "name": "python",
   "nbconvert_exporter": "python",
   "pygments_lexer": "ipython3",
   "version": "3.13.2"
  }
 },
 "nbformat": 4,
 "nbformat_minor": 4
}
